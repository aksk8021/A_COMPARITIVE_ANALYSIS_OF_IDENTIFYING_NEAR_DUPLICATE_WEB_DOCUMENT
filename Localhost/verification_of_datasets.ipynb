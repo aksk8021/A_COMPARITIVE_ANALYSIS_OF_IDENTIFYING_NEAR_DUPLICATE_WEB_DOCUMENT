{
 "cells": [
  {
   "cell_type": "code",
   "execution_count": 1,
   "id": "54e2614d",
   "metadata": {},
   "outputs": [
    {
     "name": "stdout",
     "output_type": "stream",
     "text": [
      "lol.xls\n"
     ]
    }
   ],
   "source": [
    "filename=input()"
   ]
  },
  {
   "cell_type": "code",
   "execution_count": 2,
   "id": "3d395393",
   "metadata": {},
   "outputs": [],
   "source": [
    "import requests\n",
    "from bs4 import BeautifulSoup\n",
    "import re\n",
    "import requests\n",
    "from bs4 import BeautifulSoup\n",
    "from nltk.corpus import stopwords\n",
    "from nltk.tokenize import word_tokenize\n",
    "import pandas as pd\n",
    "import numpy as np"
   ]
  },
  {
   "cell_type": "code",
   "execution_count": 3,
   "id": "66f3f75f",
   "metadata": {},
   "outputs": [
    {
     "name": "stdout",
     "output_type": "stream",
     "text": [
      "http://127.0.0.1:8000/p1\n"
     ]
    }
   ],
   "source": [
    "data=pd.read_excel(filename)\n",
    "# print(data[['linkk']]) \n",
    "df=pd.DataFrame(data)\n",
    "# dfs=df['linkk']\n",
    "print(df['links'][0])\n",
    "num_of_links=df.shape[0]\n",
    "l_names=[]\n",
    "l_w_name=[]"
   ]
  },
  {
   "cell_type": "code",
   "execution_count": 9,
   "id": "2b4ca4ab",
   "metadata": {},
   "outputs": [],
   "source": [
    "def validating_idiots(url):\n",
    "    r = requests.get(url)# r variable has all the HTML code\n",
    "    htmlContent = r.content# r returns response so if we want the code we write r.content\n",
    "    #print(htmlContent)\n",
    "    soup = BeautifulSoup(r.content, 'html.parser')\n",
    "    s1=\"\"\n",
    "    for i in soup.find_all('p'):\n",
    "        a=(i.text)\n",
    "        s1+=(i.text)\n",
    "    l1=list(s1.split())\n",
    "    return l1[:2000]\n"
   ]
  },
  {
   "cell_type": "code",
   "execution_count": 10,
   "id": "97284178",
   "metadata": {},
   "outputs": [],
   "source": [
    "l2=[]\n",
    "for i in range(num_of_links):\n",
    "    url=df['links'][i]\n",
    "    l_w_name.append(f\"w{i+1}\")\n",
    "    l2.append(validating_idiots(url))"
   ]
  },
  {
   "cell_type": "code",
   "execution_count": 11,
   "id": "a0fe9b1b",
   "metadata": {},
   "outputs": [
    {
     "name": "stdout",
     "output_type": "stream",
     "text": [
      "2000\n",
      "2000\n"
     ]
    }
   ],
   "source": [
    "print(len(l2[0]))\n",
    "print(len(l2[1]))"
   ]
  },
  {
   "cell_type": "code",
   "execution_count": 12,
   "id": "79d0e466",
   "metadata": {},
   "outputs": [],
   "source": [
    "with open(\"res.txt\",\"a\") as f:\n",
    "    \n",
    "    for i in range(len(l2)):\n",
    "        for j in range(len(l2)):\n",
    "            if i==j:\n",
    "                continue\n",
    "            alpha=False\n",
    "            if l2[i]==l2[j]:\n",
    "                alpha=True\n",
    "            if alpha:\n",
    "                s1=f\"\"\"{df['links'][i]}\\n\"\"\"\n",
    "                s2=f\"\"\"{df['links'][j]}\\n\\n\"\"\"\n",
    "#                 print(l2[i])\n",
    "#                 print(l2[j])\n",
    "#                 print(l_w_name[i],end=\" \")\n",
    "#                 print(l_w_name[j],end=\" \")\n",
    "                print(df['links'][i])\n",
    "                print(df['links'][j])\n",
    "                print()\n",
    "                f.write(s1)\n",
    "                f.write(s2)"
   ]
  },
  {
   "cell_type": "code",
   "execution_count": 13,
   "id": "c9cd43fe",
   "metadata": {},
   "outputs": [],
   "source": [
    "# for i in range(len(l2)):\n",
    "#     print(l2[i])\n",
    "#     print()"
   ]
  },
  {
   "cell_type": "code",
   "execution_count": null,
   "id": "9719c3db",
   "metadata": {},
   "outputs": [],
   "source": []
  },
  {
   "cell_type": "code",
   "execution_count": null,
   "id": "f28477df",
   "metadata": {},
   "outputs": [],
   "source": []
  },
  {
   "cell_type": "code",
   "execution_count": null,
   "id": "7d12e5c0",
   "metadata": {},
   "outputs": [],
   "source": []
  },
  {
   "cell_type": "code",
   "execution_count": null,
   "id": "bc98d390",
   "metadata": {},
   "outputs": [],
   "source": []
  },
  {
   "cell_type": "code",
   "execution_count": null,
   "id": "9d707039",
   "metadata": {},
   "outputs": [],
   "source": []
  }
 ],
 "metadata": {
  "kernelspec": {
   "display_name": "Python 3 (ipykernel)",
   "language": "python",
   "name": "python3"
  },
  "language_info": {
   "codemirror_mode": {
    "name": "ipython",
    "version": 3
   },
   "file_extension": ".py",
   "mimetype": "text/x-python",
   "name": "python",
   "nbconvert_exporter": "python",
   "pygments_lexer": "ipython3",
   "version": "3.10.2"
  }
 },
 "nbformat": 4,
 "nbformat_minor": 5
}
