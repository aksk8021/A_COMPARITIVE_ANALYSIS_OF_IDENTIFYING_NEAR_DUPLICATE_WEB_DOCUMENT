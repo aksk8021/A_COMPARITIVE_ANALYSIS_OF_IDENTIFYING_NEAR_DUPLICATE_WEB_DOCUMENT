{
 "cells": [
  {
   "cell_type": "code",
   "execution_count": 1,
   "id": "e00fe8fb",
   "metadata": {},
   "outputs": [],
   "source": [
    "import pandas as pd\n",
    "import numpy as np\n",
    "import matplotlib as plt\n",
    "import seaborn as sns"
   ]
  },
  {
   "cell_type": "code",
   "execution_count": 2,
   "id": "bbb6d082",
   "metadata": {},
   "outputs": [
    {
     "name": "stdout",
     "output_type": "stream",
     "text": [
      "res1.txt\n"
     ]
    }
   ],
   "source": [
    "filename=input()"
   ]
  },
  {
   "cell_type": "code",
   "execution_count": 3,
   "id": "e9055212",
   "metadata": {},
   "outputs": [],
   "source": [
    "l1=[]\n",
    "with open(f\"{filename}\",\"r\") as f:\n",
    "    l1=f.readlines()"
   ]
  },
  {
   "cell_type": "code",
   "execution_count": 4,
   "id": "38945d99",
   "metadata": {},
   "outputs": [
    {
     "data": {
      "text/plain": [
       "['unstemmed u100.xls 4469 2 479 615.7536413669586\\n',\n",
       " 'unstemmed u100_50.xls 4478 51 421 685.4603524208069\\n',\n",
       " 'unstemmed u100_80_01.xls 4540 22 388 630.546852350235\\n',\n",
       " 'unstemmed u200.xls 18608 3 1289 2429.9087567329407\\n',\n",
       " 'unstemmed u200_50.xls 17886 111 1903 2419.839929819107\\n',\n",
       " 'unstemmed u300_50.xls 41648 162 3040 5629.628127336502\\n',\n",
       " 'unstemmed u300.xls 42749 3 2098 5817.385088443756']"
      ]
     },
     "execution_count": 4,
     "metadata": {},
     "output_type": "execute_result"
    }
   ],
   "source": [
    "l1"
   ]
  },
  {
   "cell_type": "code",
   "execution_count": 5,
   "id": "56573682",
   "metadata": {},
   "outputs": [
    {
     "name": "stdout",
     "output_type": "stream",
     "text": [
      "['unstemmed u100.xls 4469 2 479 615.7536413669586', 'unstemmed u100_50.xls 4478 51 421 685.4603524208069', 'unstemmed u100_80_01.xls 4540 22 388 630.546852350235', 'unstemmed u200.xls 18608 3 1289 2429.9087567329407', 'unstemmed u200_50.xls 17886 111 1903 2419.839929819107', 'unstemmed u300_50.xls 41648 162 3040 5629.628127336502', 'unstemmed u300.xls 42749 3 2098 5817.385088443756']\n"
     ]
    }
   ],
   "source": [
    "l2=[]\n",
    "for i in l1:\n",
    "    l2.append(i.strip('\\n'))\n",
    "print(l2)"
   ]
  },
  {
   "cell_type": "code",
   "execution_count": 6,
   "id": "15768e37",
   "metadata": {},
   "outputs": [
    {
     "name": "stdout",
     "output_type": "stream",
     "text": [
      "48\n"
     ]
    }
   ],
   "source": [
    "print(len(l1[0]))"
   ]
  },
  {
   "cell_type": "code",
   "execution_count": 7,
   "id": "66799015",
   "metadata": {},
   "outputs": [
    {
     "name": "stdout",
     "output_type": "stream",
     "text": [
      "[['unstemmed', 'u100.xls', '4469', '2', '479', '615.7536413669586'], ['unstemmed', 'u100_50.xls', '4478', '51', '421', '685.4603524208069'], ['unstemmed', 'u100_80_01.xls', '4540', '22', '388', '630.546852350235'], ['unstemmed', 'u200.xls', '18608', '3', '1289', '2429.9087567329407'], ['unstemmed', 'u200_50.xls', '17886', '111', '1903', '2419.839929819107'], ['unstemmed', 'u300_50.xls', '41648', '162', '3040', '5629.628127336502'], ['unstemmed', 'u300.xls', '42749', '3', '2098', '5817.385088443756']]\n"
     ]
    }
   ],
   "source": [
    "l3=[]\n",
    "for i in l2:\n",
    "    l=list(i.split())\n",
    "    l3.append(l)\n",
    "print(l3)"
   ]
  },
  {
   "cell_type": "code",
   "execution_count": 8,
   "id": "d2b9f783",
   "metadata": {},
   "outputs": [],
   "source": [
    "df=pd.DataFrame(l3)"
   ]
  },
  {
   "cell_type": "code",
   "execution_count": 9,
   "id": "ad34a529",
   "metadata": {},
   "outputs": [
    {
     "data": {
      "text/html": [
       "<div>\n",
       "<style scoped>\n",
       "    .dataframe tbody tr th:only-of-type {\n",
       "        vertical-align: middle;\n",
       "    }\n",
       "\n",
       "    .dataframe tbody tr th {\n",
       "        vertical-align: top;\n",
       "    }\n",
       "\n",
       "    .dataframe thead th {\n",
       "        text-align: right;\n",
       "    }\n",
       "</style>\n",
       "<table border=\"1\" class=\"dataframe\">\n",
       "  <thead>\n",
       "    <tr style=\"text-align: right;\">\n",
       "      <th></th>\n",
       "      <th>0</th>\n",
       "      <th>1</th>\n",
       "      <th>2</th>\n",
       "      <th>3</th>\n",
       "      <th>4</th>\n",
       "      <th>5</th>\n",
       "    </tr>\n",
       "  </thead>\n",
       "  <tbody>\n",
       "    <tr>\n",
       "      <th>0</th>\n",
       "      <td>unstemmed</td>\n",
       "      <td>u100.xls</td>\n",
       "      <td>4469</td>\n",
       "      <td>2</td>\n",
       "      <td>479</td>\n",
       "      <td>615.7536413669586</td>\n",
       "    </tr>\n",
       "    <tr>\n",
       "      <th>1</th>\n",
       "      <td>unstemmed</td>\n",
       "      <td>u100_50.xls</td>\n",
       "      <td>4478</td>\n",
       "      <td>51</td>\n",
       "      <td>421</td>\n",
       "      <td>685.4603524208069</td>\n",
       "    </tr>\n",
       "    <tr>\n",
       "      <th>2</th>\n",
       "      <td>unstemmed</td>\n",
       "      <td>u100_80_01.xls</td>\n",
       "      <td>4540</td>\n",
       "      <td>22</td>\n",
       "      <td>388</td>\n",
       "      <td>630.546852350235</td>\n",
       "    </tr>\n",
       "    <tr>\n",
       "      <th>3</th>\n",
       "      <td>unstemmed</td>\n",
       "      <td>u200.xls</td>\n",
       "      <td>18608</td>\n",
       "      <td>3</td>\n",
       "      <td>1289</td>\n",
       "      <td>2429.9087567329407</td>\n",
       "    </tr>\n",
       "    <tr>\n",
       "      <th>4</th>\n",
       "      <td>unstemmed</td>\n",
       "      <td>u200_50.xls</td>\n",
       "      <td>17886</td>\n",
       "      <td>111</td>\n",
       "      <td>1903</td>\n",
       "      <td>2419.839929819107</td>\n",
       "    </tr>\n",
       "    <tr>\n",
       "      <th>5</th>\n",
       "      <td>unstemmed</td>\n",
       "      <td>u300_50.xls</td>\n",
       "      <td>41648</td>\n",
       "      <td>162</td>\n",
       "      <td>3040</td>\n",
       "      <td>5629.628127336502</td>\n",
       "    </tr>\n",
       "    <tr>\n",
       "      <th>6</th>\n",
       "      <td>unstemmed</td>\n",
       "      <td>u300.xls</td>\n",
       "      <td>42749</td>\n",
       "      <td>3</td>\n",
       "      <td>2098</td>\n",
       "      <td>5817.385088443756</td>\n",
       "    </tr>\n",
       "  </tbody>\n",
       "</table>\n",
       "</div>"
      ],
      "text/plain": [
       "           0               1      2    3     4                   5\n",
       "0  unstemmed        u100.xls   4469    2   479   615.7536413669586\n",
       "1  unstemmed     u100_50.xls   4478   51   421   685.4603524208069\n",
       "2  unstemmed  u100_80_01.xls   4540   22   388    630.546852350235\n",
       "3  unstemmed        u200.xls  18608    3  1289  2429.9087567329407\n",
       "4  unstemmed     u200_50.xls  17886  111  1903   2419.839929819107\n",
       "5  unstemmed     u300_50.xls  41648  162  3040   5629.628127336502\n",
       "6  unstemmed        u300.xls  42749    3  2098   5817.385088443756"
      ]
     },
     "execution_count": 9,
     "metadata": {},
     "output_type": "execute_result"
    }
   ],
   "source": [
    "df"
   ]
  },
  {
   "cell_type": "code",
   "execution_count": 10,
   "id": "72e52e32",
   "metadata": {},
   "outputs": [],
   "source": [
    "df.rename(columns={1:'file_taken',2:'predicted_number_of_unique_pairs',3:'predicted_number_of_ndd_pairs',4:'suspicious', 5:'time_taken'},inplace=True)"
   ]
  },
  {
   "cell_type": "code",
   "execution_count": 11,
   "id": "54109068",
   "metadata": {},
   "outputs": [
    {
     "data": {
      "text/html": [
       "<div>\n",
       "<style scoped>\n",
       "    .dataframe tbody tr th:only-of-type {\n",
       "        vertical-align: middle;\n",
       "    }\n",
       "\n",
       "    .dataframe tbody tr th {\n",
       "        vertical-align: top;\n",
       "    }\n",
       "\n",
       "    .dataframe thead th {\n",
       "        text-align: right;\n",
       "    }\n",
       "</style>\n",
       "<table border=\"1\" class=\"dataframe\">\n",
       "  <thead>\n",
       "    <tr style=\"text-align: right;\">\n",
       "      <th></th>\n",
       "      <th>0</th>\n",
       "      <th>file_taken</th>\n",
       "      <th>predicted_number_of_unique_pairs</th>\n",
       "      <th>predicted_number_of_ndd_pairs</th>\n",
       "      <th>suspicious</th>\n",
       "      <th>time_taken</th>\n",
       "    </tr>\n",
       "  </thead>\n",
       "  <tbody>\n",
       "    <tr>\n",
       "      <th>0</th>\n",
       "      <td>unstemmed</td>\n",
       "      <td>u100.xls</td>\n",
       "      <td>4469</td>\n",
       "      <td>2</td>\n",
       "      <td>479</td>\n",
       "      <td>615.7536413669586</td>\n",
       "    </tr>\n",
       "    <tr>\n",
       "      <th>1</th>\n",
       "      <td>unstemmed</td>\n",
       "      <td>u100_50.xls</td>\n",
       "      <td>4478</td>\n",
       "      <td>51</td>\n",
       "      <td>421</td>\n",
       "      <td>685.4603524208069</td>\n",
       "    </tr>\n",
       "    <tr>\n",
       "      <th>2</th>\n",
       "      <td>unstemmed</td>\n",
       "      <td>u100_80_01.xls</td>\n",
       "      <td>4540</td>\n",
       "      <td>22</td>\n",
       "      <td>388</td>\n",
       "      <td>630.546852350235</td>\n",
       "    </tr>\n",
       "    <tr>\n",
       "      <th>3</th>\n",
       "      <td>unstemmed</td>\n",
       "      <td>u200.xls</td>\n",
       "      <td>18608</td>\n",
       "      <td>3</td>\n",
       "      <td>1289</td>\n",
       "      <td>2429.9087567329407</td>\n",
       "    </tr>\n",
       "    <tr>\n",
       "      <th>4</th>\n",
       "      <td>unstemmed</td>\n",
       "      <td>u200_50.xls</td>\n",
       "      <td>17886</td>\n",
       "      <td>111</td>\n",
       "      <td>1903</td>\n",
       "      <td>2419.839929819107</td>\n",
       "    </tr>\n",
       "    <tr>\n",
       "      <th>5</th>\n",
       "      <td>unstemmed</td>\n",
       "      <td>u300_50.xls</td>\n",
       "      <td>41648</td>\n",
       "      <td>162</td>\n",
       "      <td>3040</td>\n",
       "      <td>5629.628127336502</td>\n",
       "    </tr>\n",
       "    <tr>\n",
       "      <th>6</th>\n",
       "      <td>unstemmed</td>\n",
       "      <td>u300.xls</td>\n",
       "      <td>42749</td>\n",
       "      <td>3</td>\n",
       "      <td>2098</td>\n",
       "      <td>5817.385088443756</td>\n",
       "    </tr>\n",
       "  </tbody>\n",
       "</table>\n",
       "</div>"
      ],
      "text/plain": [
       "           0      file_taken predicted_number_of_unique_pairs  \\\n",
       "0  unstemmed        u100.xls                             4469   \n",
       "1  unstemmed     u100_50.xls                             4478   \n",
       "2  unstemmed  u100_80_01.xls                             4540   \n",
       "3  unstemmed        u200.xls                            18608   \n",
       "4  unstemmed     u200_50.xls                            17886   \n",
       "5  unstemmed     u300_50.xls                            41648   \n",
       "6  unstemmed        u300.xls                            42749   \n",
       "\n",
       "  predicted_number_of_ndd_pairs suspicious          time_taken  \n",
       "0                             2        479   615.7536413669586  \n",
       "1                            51        421   685.4603524208069  \n",
       "2                            22        388    630.546852350235  \n",
       "3                             3       1289  2429.9087567329407  \n",
       "4                           111       1903   2419.839929819107  \n",
       "5                           162       3040   5629.628127336502  \n",
       "6                             3       2098   5817.385088443756  "
      ]
     },
     "execution_count": 11,
     "metadata": {},
     "output_type": "execute_result"
    }
   ],
   "source": [
    "df"
   ]
  },
  {
   "cell_type": "code",
   "execution_count": 12,
   "id": "16f06274",
   "metadata": {},
   "outputs": [],
   "source": [
    "df['total_links']=[100,100,100,200,200,300,300]"
   ]
  },
  {
   "cell_type": "code",
   "execution_count": 13,
   "id": "9974783a",
   "metadata": {},
   "outputs": [],
   "source": [
    "df['uniqueness_percentage']=[100,50,80,100,50,50,100]"
   ]
  },
  {
   "cell_type": "code",
   "execution_count": 14,
   "id": "d6bb6008",
   "metadata": {},
   "outputs": [],
   "source": [
    "df['total_pairs_considered']=pd.to_numeric(df['predicted_number_of_unique_pairs'])+pd.to_numeric(df['predicted_number_of_ndd_pairs'])+pd.to_numeric(df['suspicious'])"
   ]
  },
  {
   "cell_type": "code",
   "execution_count": 15,
   "id": "68ef3d63",
   "metadata": {},
   "outputs": [
    {
     "name": "stdout",
     "output_type": "stream",
     "text": [
      "the confusion matrix for the u100.xls is:\n",
      "[['4850.0' '0']\n",
      " ['98.0' '2']]\n",
      "the confusion matrix for the u100_50.xls is:\n",
      "[['4899' '1.0']\n",
      " ['0' '50.0']]\n",
      "the confusion matrix for the u100_80_01.xls is:\n",
      "[['4870.0' '0']\n",
      " ['58.0' '22']]\n",
      "the confusion matrix for the u200.xls is:\n",
      "[['19700.0' '0']\n",
      " ['197.0' '3']]\n",
      "the confusion matrix for the u200_50.xls is:\n",
      "[['19789' '11.0']\n",
      " ['0' '100.0']]\n",
      "the confusion matrix for the u300_50.xls is:\n",
      "[['44688' '12.0']\n",
      " ['0' '150.0']]\n",
      "the confusion matrix for the u300.xls is:\n",
      "[['44550.0' '0']\n",
      " ['297.0' '3']]\n"
     ]
    },
    {
     "ename": "KeyError",
     "evalue": "7",
     "output_type": "error",
     "traceback": [
      "\u001b[1;31m---------------------------------------------------------------------------\u001b[0m",
      "\u001b[1;31mValueError\u001b[0m                                Traceback (most recent call last)",
      "File \u001b[1;32m~\\AppData\\Local\\Programs\\Python\\Python310\\lib\\site-packages\\pandas\\core\\indexes\\range.py:385\u001b[0m, in \u001b[0;36mRangeIndex.get_loc\u001b[1;34m(self, key, method, tolerance)\u001b[0m\n\u001b[0;32m    384\u001b[0m \u001b[38;5;28;01mtry\u001b[39;00m:\n\u001b[1;32m--> 385\u001b[0m     \u001b[38;5;28;01mreturn\u001b[39;00m \u001b[38;5;28;43mself\u001b[39;49m\u001b[38;5;241;43m.\u001b[39;49m\u001b[43m_range\u001b[49m\u001b[38;5;241;43m.\u001b[39;49m\u001b[43mindex\u001b[49m\u001b[43m(\u001b[49m\u001b[43mnew_key\u001b[49m\u001b[43m)\u001b[49m\n\u001b[0;32m    386\u001b[0m \u001b[38;5;28;01mexcept\u001b[39;00m \u001b[38;5;167;01mValueError\u001b[39;00m \u001b[38;5;28;01mas\u001b[39;00m err:\n",
      "\u001b[1;31mValueError\u001b[0m: 7 is not in range",
      "\nThe above exception was the direct cause of the following exception:\n",
      "\u001b[1;31mKeyError\u001b[0m                                  Traceback (most recent call last)",
      "Input \u001b[1;32mIn [15]\u001b[0m, in \u001b[0;36m<cell line: 3>\u001b[1;34m()\u001b[0m\n\u001b[0;32m      3\u001b[0m \u001b[38;5;28;01mfor\u001b[39;00m i \u001b[38;5;129;01min\u001b[39;00m \u001b[38;5;28mrange\u001b[39m(\u001b[38;5;241m8\u001b[39m):\n\u001b[0;32m      4\u001b[0m     l_pred\u001b[38;5;241m=\u001b[39m[]\n\u001b[1;32m----> 5\u001b[0m     l_pred\u001b[38;5;241m.\u001b[39mappend(\u001b[38;5;28mint\u001b[39m(\u001b[43mdf\u001b[49m\u001b[43m[\u001b[49m\u001b[38;5;124;43m'\u001b[39;49m\u001b[38;5;124;43mpredicted_number_of_unique_pairs\u001b[39;49m\u001b[38;5;124;43m'\u001b[39;49m\u001b[43m]\u001b[49m\u001b[43m[\u001b[49m\u001b[43mi\u001b[49m\u001b[43m]\u001b[49m)\u001b[38;5;241m+\u001b[39m\u001b[38;5;28mint\u001b[39m(df[\u001b[38;5;124m'\u001b[39m\u001b[38;5;124msuspicious\u001b[39m\u001b[38;5;124m'\u001b[39m][i]))\n\u001b[0;32m      6\u001b[0m     l_pred\u001b[38;5;241m.\u001b[39mappend(\u001b[38;5;28mint\u001b[39m(df[\u001b[38;5;124m'\u001b[39m\u001b[38;5;124mpredicted_number_of_ndd_pairs\u001b[39m\u001b[38;5;124m'\u001b[39m][i]))\n\u001b[0;32m      7\u001b[0m     l_true\u001b[38;5;241m=\u001b[39m[]\n",
      "File \u001b[1;32m~\\AppData\\Local\\Programs\\Python\\Python310\\lib\\site-packages\\pandas\\core\\series.py:958\u001b[0m, in \u001b[0;36mSeries.__getitem__\u001b[1;34m(self, key)\u001b[0m\n\u001b[0;32m    955\u001b[0m     \u001b[38;5;28;01mreturn\u001b[39;00m \u001b[38;5;28mself\u001b[39m\u001b[38;5;241m.\u001b[39m_values[key]\n\u001b[0;32m    957\u001b[0m \u001b[38;5;28;01melif\u001b[39;00m key_is_scalar:\n\u001b[1;32m--> 958\u001b[0m     \u001b[38;5;28;01mreturn\u001b[39;00m \u001b[38;5;28;43mself\u001b[39;49m\u001b[38;5;241;43m.\u001b[39;49m\u001b[43m_get_value\u001b[49m\u001b[43m(\u001b[49m\u001b[43mkey\u001b[49m\u001b[43m)\u001b[49m\n\u001b[0;32m    960\u001b[0m \u001b[38;5;28;01mif\u001b[39;00m is_hashable(key):\n\u001b[0;32m    961\u001b[0m     \u001b[38;5;66;03m# Otherwise index.get_value will raise InvalidIndexError\u001b[39;00m\n\u001b[0;32m    962\u001b[0m     \u001b[38;5;28;01mtry\u001b[39;00m:\n\u001b[0;32m    963\u001b[0m         \u001b[38;5;66;03m# For labels that don't resolve as scalars like tuples and frozensets\u001b[39;00m\n",
      "File \u001b[1;32m~\\AppData\\Local\\Programs\\Python\\Python310\\lib\\site-packages\\pandas\\core\\series.py:1069\u001b[0m, in \u001b[0;36mSeries._get_value\u001b[1;34m(self, label, takeable)\u001b[0m\n\u001b[0;32m   1066\u001b[0m     \u001b[38;5;28;01mreturn\u001b[39;00m \u001b[38;5;28mself\u001b[39m\u001b[38;5;241m.\u001b[39m_values[label]\n\u001b[0;32m   1068\u001b[0m \u001b[38;5;66;03m# Similar to Index.get_value, but we do not fall back to positional\u001b[39;00m\n\u001b[1;32m-> 1069\u001b[0m loc \u001b[38;5;241m=\u001b[39m \u001b[38;5;28;43mself\u001b[39;49m\u001b[38;5;241;43m.\u001b[39;49m\u001b[43mindex\u001b[49m\u001b[38;5;241;43m.\u001b[39;49m\u001b[43mget_loc\u001b[49m\u001b[43m(\u001b[49m\u001b[43mlabel\u001b[49m\u001b[43m)\u001b[49m\n\u001b[0;32m   1070\u001b[0m \u001b[38;5;28;01mreturn\u001b[39;00m \u001b[38;5;28mself\u001b[39m\u001b[38;5;241m.\u001b[39mindex\u001b[38;5;241m.\u001b[39m_get_values_for_loc(\u001b[38;5;28mself\u001b[39m, loc, label)\n",
      "File \u001b[1;32m~\\AppData\\Local\\Programs\\Python\\Python310\\lib\\site-packages\\pandas\\core\\indexes\\range.py:387\u001b[0m, in \u001b[0;36mRangeIndex.get_loc\u001b[1;34m(self, key, method, tolerance)\u001b[0m\n\u001b[0;32m    385\u001b[0m         \u001b[38;5;28;01mreturn\u001b[39;00m \u001b[38;5;28mself\u001b[39m\u001b[38;5;241m.\u001b[39m_range\u001b[38;5;241m.\u001b[39mindex(new_key)\n\u001b[0;32m    386\u001b[0m     \u001b[38;5;28;01mexcept\u001b[39;00m \u001b[38;5;167;01mValueError\u001b[39;00m \u001b[38;5;28;01mas\u001b[39;00m err:\n\u001b[1;32m--> 387\u001b[0m         \u001b[38;5;28;01mraise\u001b[39;00m \u001b[38;5;167;01mKeyError\u001b[39;00m(key) \u001b[38;5;28;01mfrom\u001b[39;00m \u001b[38;5;21;01merr\u001b[39;00m\n\u001b[0;32m    388\u001b[0m \u001b[38;5;28mself\u001b[39m\u001b[38;5;241m.\u001b[39m_check_indexing_error(key)\n\u001b[0;32m    389\u001b[0m \u001b[38;5;28;01mraise\u001b[39;00m \u001b[38;5;167;01mKeyError\u001b[39;00m(key)\n",
      "\u001b[1;31mKeyError\u001b[0m: 7"
     ]
    }
   ],
   "source": [
    "list_of_conf_matrix=[]\n",
    "import decimal as dc\n",
    "for i in range(7):\n",
    "    l_pred=[]\n",
    "    l_pred.append(int(df['predicted_number_of_unique_pairs'][i])+int(df['suspicious'][i]))\n",
    "    l_pred.append(int(df['predicted_number_of_ndd_pairs'][i]))\n",
    "    l_true=[]\n",
    "    l_true.append(int(df['total_pairs_considered'][i])-int(df['uniqueness_percentage'][i])/100*int(df['total_links'][i]))\n",
    "    l_true.append(int(df['uniqueness_percentage'][i])/100*int(df['total_links'][i]))\n",
    "    conf_1=[str(min(l_pred[0],l_true[0])),str(max(0,l_true[0]-l_pred[0]))]\n",
    "    conf_2=[str(max(0,l_true[1]-l_pred[1])),str(min(l_pred[1],l_true[1]))]\n",
    "    a=np.array([conf_1,conf_2])\n",
    "    list_of_conf_matrix.append(a)\n",
    "    print(f\"the confusion matrix for the {df['file_taken'][i]} is:\")\n",
    "    print(a)"
   ]
  },
  {
   "cell_type": "code",
   "execution_count": null,
   "id": "d149e49d",
   "metadata": {},
   "outputs": [],
   "source": [
    "def final_table(cm):\n",
    "    tp=float(cm[0][0])\n",
    "    tn=float(cm[1][1])\n",
    "    fp=float(cm[0][1])\n",
    "    fn=float(cm[1][0])\n",
    "#     print(tn)\n",
    "    tot=tp+tn+fp+fn\n",
    "    acc=(tp+tn)/(tot)\n",
    "    err=(fp+fn)/(tot)\n",
    "    sen=(tp)/(tp+fn)\n",
    "    spe=(tn)/(tn+fp)\n",
    "    ppv=(tp)/(tp+fp)\n",
    "    npv=(tn)/(tn+fn)\n",
    "    fpr=(fp)/(fp+tn)\n",
    "    fnr=(fn)/(fn+tp)\n",
    "    fdr=(fp)/(fp+tp)\n",
    "    fomr=(fn)/(fn+tn)\n",
    "    col1=['acc','err','sen','spe','ppv','npv','fpr','fnr','fdr','fomr']\n",
    "    col2=[acc,err,sen,spe,ppv,npv,fpr,fnr,fdr,fomr]\n",
    "    data=[]\n",
    "    di={'acc':acc,'err':err,'sen':sen,'spe':spe,'ppv':ppv,'npv':npv,'fpr':fpr,'fnr':fnr,'fdr':fdr,'fomr':fomr}\n",
    "    for i in range(len(col1)):\n",
    "        l=[]\n",
    "        l.append(col1[i])\n",
    "        l.append(col2[i])\n",
    "        data.append(l)\n",
    "    df_local=pd.DataFrame(data,columns=['factor','ndd01_stemmed'])\n",
    "#     df_local.rename(columns={0:'factor',1:'ndd01_stemmed'},inplace=True)\n",
    "    return df_local"
   ]
  },
  {
   "cell_type": "code",
   "execution_count": null,
   "id": "08c0bd83",
   "metadata": {},
   "outputs": [],
   "source": [
    "list_of_final_dataframes=[]\n",
    "for i in range(len(list_of_conf_matrix)):\n",
    "    list_of_final_dataframes.append(final_table(list_of_conf_matrix[i]))\n",
    "    print(list_of_final_dataframes[i])"
   ]
  },
  {
   "cell_type": "code",
   "execution_count": null,
   "id": "6815d2e2",
   "metadata": {},
   "outputs": [],
   "source": []
  }
 ],
 "metadata": {
  "kernelspec": {
   "display_name": "Python 3 (ipykernel)",
   "language": "python",
   "name": "python3"
  },
  "language_info": {
   "codemirror_mode": {
    "name": "ipython",
    "version": 3
   },
   "file_extension": ".py",
   "mimetype": "text/x-python",
   "name": "python",
   "nbconvert_exporter": "python",
   "pygments_lexer": "ipython3",
   "version": "3.10.2"
  }
 },
 "nbformat": 4,
 "nbformat_minor": 5
}
