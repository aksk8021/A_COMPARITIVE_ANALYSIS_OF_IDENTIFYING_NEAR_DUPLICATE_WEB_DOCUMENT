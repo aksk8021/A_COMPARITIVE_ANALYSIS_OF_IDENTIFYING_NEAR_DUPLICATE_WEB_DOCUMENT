{
 "cells": [
  {
   "cell_type": "code",
   "execution_count": 23,
   "id": "a0782dad",
   "metadata": {},
   "outputs": [],
   "source": [
    "import pandas as pd\n",
    "import numpy as np\n",
    "import matplotlib as plt\n",
    "import seaborn as sns"
   ]
  },
  {
   "cell_type": "code",
   "execution_count": 24,
   "id": "9abc758c",
   "metadata": {},
   "outputs": [
    {
     "name": "stdout",
     "output_type": "stream",
     "text": [
      "res1.txt\n"
     ]
    }
   ],
   "source": [
    "filename=input()"
   ]
  },
  {
   "cell_type": "code",
   "execution_count": 25,
   "id": "abc32df3",
   "metadata": {},
   "outputs": [],
   "source": [
    "l1=[]\n",
    "with open(f\"{filename}\",\"r\") as f:\n",
    "    l1=f.readlines()"
   ]
  },
  {
   "cell_type": "code",
   "execution_count": 26,
   "id": "2f0cc61d",
   "metadata": {},
   "outputs": [
    {
     "data": {
      "text/plain": [
       "['unstemmed u100.xls 4879 71 39.09885597229004 seconds\\n',\n",
       " 'unstemmed u100_50.xls 4856 94 40.195544481277466 seconds\\n',\n",
       " 'unstemmed u200.xls 19710 190 147.40598058700562 seconds\\n',\n",
       " 'unstemmed u200_50.xls 19517 383 149.65856862068176 seconds\\n',\n",
       " 'unstemmed u100_80_01.xls 4856 94 37.3680899143219 seconds\\n',\n",
       " 'unstemmed u300.xls 44579 271 282.2356131076813 seconds\\n',\n",
       " 'unstemmed u300_50.xls 44180 670 265.4464943408966 seconds\\n',\n",
       " 'unstemmed lol.xls 318904 3099 1716.3715987205505 seconds\\n',\n",
       " '\\n',\n",
       " '\\n']"
      ]
     },
     "execution_count": 26,
     "metadata": {},
     "output_type": "execute_result"
    }
   ],
   "source": [
    "l1"
   ]
  },
  {
   "cell_type": "code",
   "execution_count": 27,
   "id": "2c7d05da",
   "metadata": {},
   "outputs": [
    {
     "name": "stdout",
     "output_type": "stream",
     "text": [
      "['unstemmed u100.xls 4879 71 39.09885597229004 seconds', 'unstemmed u100_50.xls 4856 94 40.195544481277466 seconds', 'unstemmed u200.xls 19710 190 147.40598058700562 seconds', 'unstemmed u200_50.xls 19517 383 149.65856862068176 seconds', 'unstemmed u100_80_01.xls 4856 94 37.3680899143219 seconds', 'unstemmed u300.xls 44579 271 282.2356131076813 seconds', 'unstemmed u300_50.xls 44180 670 265.4464943408966 seconds', 'unstemmed lol.xls 318904 3099 1716.3715987205505 seconds', '', '']\n"
     ]
    }
   ],
   "source": [
    "l2=[]\n",
    "for i in l1:\n",
    "    l2.append(i.strip('\\n'))\n",
    "print(l2)"
   ]
  },
  {
   "cell_type": "code",
   "execution_count": 28,
   "id": "9aacebd4",
   "metadata": {},
   "outputs": [
    {
     "name": "stdout",
     "output_type": "stream",
     "text": [
      "53\n"
     ]
    }
   ],
   "source": [
    "print(len(l1[0]))"
   ]
  },
  {
   "cell_type": "code",
   "execution_count": 29,
   "id": "060bda68",
   "metadata": {},
   "outputs": [
    {
     "name": "stdout",
     "output_type": "stream",
     "text": [
      "[['unstemmed', 'u100.xls', '4879', '71', '39.09885597229004', 'seconds'], ['unstemmed', 'u100_50.xls', '4856', '94', '40.195544481277466', 'seconds'], ['unstemmed', 'u200.xls', '19710', '190', '147.40598058700562', 'seconds'], ['unstemmed', 'u200_50.xls', '19517', '383', '149.65856862068176', 'seconds'], ['unstemmed', 'u100_80_01.xls', '4856', '94', '37.3680899143219', 'seconds'], ['unstemmed', 'u300.xls', '44579', '271', '282.2356131076813', 'seconds'], ['unstemmed', 'u300_50.xls', '44180', '670', '265.4464943408966', 'seconds'], ['unstemmed', 'lol.xls', '318904', '3099', '1716.3715987205505', 'seconds'], [], []]\n"
     ]
    }
   ],
   "source": [
    "l3=[]\n",
    "for i in l2:\n",
    "    l=list(i.split())\n",
    "    l3.append(l)\n",
    "print(l3)"
   ]
  },
  {
   "cell_type": "code",
   "execution_count": 30,
   "id": "7a4d3897",
   "metadata": {},
   "outputs": [],
   "source": [
    "df=pd.DataFrame(l3)"
   ]
  },
  {
   "cell_type": "code",
   "execution_count": 31,
   "id": "7e425435",
   "metadata": {},
   "outputs": [
    {
     "data": {
      "text/html": [
       "<div>\n",
       "<style scoped>\n",
       "    .dataframe tbody tr th:only-of-type {\n",
       "        vertical-align: middle;\n",
       "    }\n",
       "\n",
       "    .dataframe tbody tr th {\n",
       "        vertical-align: top;\n",
       "    }\n",
       "\n",
       "    .dataframe thead th {\n",
       "        text-align: right;\n",
       "    }\n",
       "</style>\n",
       "<table border=\"1\" class=\"dataframe\">\n",
       "  <thead>\n",
       "    <tr style=\"text-align: right;\">\n",
       "      <th></th>\n",
       "      <th>0</th>\n",
       "      <th>1</th>\n",
       "      <th>2</th>\n",
       "      <th>3</th>\n",
       "      <th>4</th>\n",
       "      <th>5</th>\n",
       "    </tr>\n",
       "  </thead>\n",
       "  <tbody>\n",
       "    <tr>\n",
       "      <th>0</th>\n",
       "      <td>unstemmed</td>\n",
       "      <td>u100.xls</td>\n",
       "      <td>4879</td>\n",
       "      <td>71</td>\n",
       "      <td>39.09885597229004</td>\n",
       "      <td>seconds</td>\n",
       "    </tr>\n",
       "    <tr>\n",
       "      <th>1</th>\n",
       "      <td>unstemmed</td>\n",
       "      <td>u100_50.xls</td>\n",
       "      <td>4856</td>\n",
       "      <td>94</td>\n",
       "      <td>40.195544481277466</td>\n",
       "      <td>seconds</td>\n",
       "    </tr>\n",
       "    <tr>\n",
       "      <th>2</th>\n",
       "      <td>unstemmed</td>\n",
       "      <td>u200.xls</td>\n",
       "      <td>19710</td>\n",
       "      <td>190</td>\n",
       "      <td>147.40598058700562</td>\n",
       "      <td>seconds</td>\n",
       "    </tr>\n",
       "    <tr>\n",
       "      <th>3</th>\n",
       "      <td>unstemmed</td>\n",
       "      <td>u200_50.xls</td>\n",
       "      <td>19517</td>\n",
       "      <td>383</td>\n",
       "      <td>149.65856862068176</td>\n",
       "      <td>seconds</td>\n",
       "    </tr>\n",
       "    <tr>\n",
       "      <th>4</th>\n",
       "      <td>unstemmed</td>\n",
       "      <td>u100_80_01.xls</td>\n",
       "      <td>4856</td>\n",
       "      <td>94</td>\n",
       "      <td>37.3680899143219</td>\n",
       "      <td>seconds</td>\n",
       "    </tr>\n",
       "    <tr>\n",
       "      <th>5</th>\n",
       "      <td>unstemmed</td>\n",
       "      <td>u300.xls</td>\n",
       "      <td>44579</td>\n",
       "      <td>271</td>\n",
       "      <td>282.2356131076813</td>\n",
       "      <td>seconds</td>\n",
       "    </tr>\n",
       "    <tr>\n",
       "      <th>6</th>\n",
       "      <td>unstemmed</td>\n",
       "      <td>u300_50.xls</td>\n",
       "      <td>44180</td>\n",
       "      <td>670</td>\n",
       "      <td>265.4464943408966</td>\n",
       "      <td>seconds</td>\n",
       "    </tr>\n",
       "    <tr>\n",
       "      <th>7</th>\n",
       "      <td>unstemmed</td>\n",
       "      <td>lol.xls</td>\n",
       "      <td>318904</td>\n",
       "      <td>3099</td>\n",
       "      <td>1716.3715987205505</td>\n",
       "      <td>seconds</td>\n",
       "    </tr>\n",
       "    <tr>\n",
       "      <th>8</th>\n",
       "      <td>None</td>\n",
       "      <td>None</td>\n",
       "      <td>None</td>\n",
       "      <td>None</td>\n",
       "      <td>None</td>\n",
       "      <td>None</td>\n",
       "    </tr>\n",
       "    <tr>\n",
       "      <th>9</th>\n",
       "      <td>None</td>\n",
       "      <td>None</td>\n",
       "      <td>None</td>\n",
       "      <td>None</td>\n",
       "      <td>None</td>\n",
       "      <td>None</td>\n",
       "    </tr>\n",
       "  </tbody>\n",
       "</table>\n",
       "</div>"
      ],
      "text/plain": [
       "           0               1       2     3                   4        5\n",
       "0  unstemmed        u100.xls    4879    71   39.09885597229004  seconds\n",
       "1  unstemmed     u100_50.xls    4856    94  40.195544481277466  seconds\n",
       "2  unstemmed        u200.xls   19710   190  147.40598058700562  seconds\n",
       "3  unstemmed     u200_50.xls   19517   383  149.65856862068176  seconds\n",
       "4  unstemmed  u100_80_01.xls    4856    94    37.3680899143219  seconds\n",
       "5  unstemmed        u300.xls   44579   271   282.2356131076813  seconds\n",
       "6  unstemmed     u300_50.xls   44180   670   265.4464943408966  seconds\n",
       "7  unstemmed         lol.xls  318904  3099  1716.3715987205505  seconds\n",
       "8       None            None    None  None                None     None\n",
       "9       None            None    None  None                None     None"
      ]
     },
     "execution_count": 31,
     "metadata": {},
     "output_type": "execute_result"
    }
   ],
   "source": [
    "df"
   ]
  },
  {
   "cell_type": "code",
   "execution_count": 32,
   "id": "2ba03291",
   "metadata": {},
   "outputs": [],
   "source": [
    "df.rename(columns={1:'file_taken',2:'predicted_number_of_unique_pairs',3:'predicted_number_of_ndd_pairs',4:'time_taken'},inplace=True)"
   ]
  },
  {
   "cell_type": "code",
   "execution_count": 33,
   "id": "8cc4626c",
   "metadata": {},
   "outputs": [
    {
     "data": {
      "text/html": [
       "<div>\n",
       "<style scoped>\n",
       "    .dataframe tbody tr th:only-of-type {\n",
       "        vertical-align: middle;\n",
       "    }\n",
       "\n",
       "    .dataframe tbody tr th {\n",
       "        vertical-align: top;\n",
       "    }\n",
       "\n",
       "    .dataframe thead th {\n",
       "        text-align: right;\n",
       "    }\n",
       "</style>\n",
       "<table border=\"1\" class=\"dataframe\">\n",
       "  <thead>\n",
       "    <tr style=\"text-align: right;\">\n",
       "      <th></th>\n",
       "      <th>0</th>\n",
       "      <th>file_taken</th>\n",
       "      <th>predicted_number_of_unique_pairs</th>\n",
       "      <th>predicted_number_of_ndd_pairs</th>\n",
       "      <th>time_taken</th>\n",
       "      <th>5</th>\n",
       "    </tr>\n",
       "  </thead>\n",
       "  <tbody>\n",
       "    <tr>\n",
       "      <th>0</th>\n",
       "      <td>unstemmed</td>\n",
       "      <td>u100.xls</td>\n",
       "      <td>4879</td>\n",
       "      <td>71</td>\n",
       "      <td>39.09885597229004</td>\n",
       "      <td>seconds</td>\n",
       "    </tr>\n",
       "    <tr>\n",
       "      <th>1</th>\n",
       "      <td>unstemmed</td>\n",
       "      <td>u100_50.xls</td>\n",
       "      <td>4856</td>\n",
       "      <td>94</td>\n",
       "      <td>40.195544481277466</td>\n",
       "      <td>seconds</td>\n",
       "    </tr>\n",
       "    <tr>\n",
       "      <th>2</th>\n",
       "      <td>unstemmed</td>\n",
       "      <td>u200.xls</td>\n",
       "      <td>19710</td>\n",
       "      <td>190</td>\n",
       "      <td>147.40598058700562</td>\n",
       "      <td>seconds</td>\n",
       "    </tr>\n",
       "    <tr>\n",
       "      <th>3</th>\n",
       "      <td>unstemmed</td>\n",
       "      <td>u200_50.xls</td>\n",
       "      <td>19517</td>\n",
       "      <td>383</td>\n",
       "      <td>149.65856862068176</td>\n",
       "      <td>seconds</td>\n",
       "    </tr>\n",
       "    <tr>\n",
       "      <th>4</th>\n",
       "      <td>unstemmed</td>\n",
       "      <td>u100_80_01.xls</td>\n",
       "      <td>4856</td>\n",
       "      <td>94</td>\n",
       "      <td>37.3680899143219</td>\n",
       "      <td>seconds</td>\n",
       "    </tr>\n",
       "    <tr>\n",
       "      <th>5</th>\n",
       "      <td>unstemmed</td>\n",
       "      <td>u300.xls</td>\n",
       "      <td>44579</td>\n",
       "      <td>271</td>\n",
       "      <td>282.2356131076813</td>\n",
       "      <td>seconds</td>\n",
       "    </tr>\n",
       "    <tr>\n",
       "      <th>6</th>\n",
       "      <td>unstemmed</td>\n",
       "      <td>u300_50.xls</td>\n",
       "      <td>44180</td>\n",
       "      <td>670</td>\n",
       "      <td>265.4464943408966</td>\n",
       "      <td>seconds</td>\n",
       "    </tr>\n",
       "    <tr>\n",
       "      <th>7</th>\n",
       "      <td>unstemmed</td>\n",
       "      <td>lol.xls</td>\n",
       "      <td>318904</td>\n",
       "      <td>3099</td>\n",
       "      <td>1716.3715987205505</td>\n",
       "      <td>seconds</td>\n",
       "    </tr>\n",
       "    <tr>\n",
       "      <th>8</th>\n",
       "      <td>None</td>\n",
       "      <td>None</td>\n",
       "      <td>None</td>\n",
       "      <td>None</td>\n",
       "      <td>None</td>\n",
       "      <td>None</td>\n",
       "    </tr>\n",
       "    <tr>\n",
       "      <th>9</th>\n",
       "      <td>None</td>\n",
       "      <td>None</td>\n",
       "      <td>None</td>\n",
       "      <td>None</td>\n",
       "      <td>None</td>\n",
       "      <td>None</td>\n",
       "    </tr>\n",
       "  </tbody>\n",
       "</table>\n",
       "</div>"
      ],
      "text/plain": [
       "           0      file_taken predicted_number_of_unique_pairs  \\\n",
       "0  unstemmed        u100.xls                             4879   \n",
       "1  unstemmed     u100_50.xls                             4856   \n",
       "2  unstemmed        u200.xls                            19710   \n",
       "3  unstemmed     u200_50.xls                            19517   \n",
       "4  unstemmed  u100_80_01.xls                             4856   \n",
       "5  unstemmed        u300.xls                            44579   \n",
       "6  unstemmed     u300_50.xls                            44180   \n",
       "7  unstemmed         lol.xls                           318904   \n",
       "8       None            None                             None   \n",
       "9       None            None                             None   \n",
       "\n",
       "  predicted_number_of_ndd_pairs          time_taken        5  \n",
       "0                            71   39.09885597229004  seconds  \n",
       "1                            94  40.195544481277466  seconds  \n",
       "2                           190  147.40598058700562  seconds  \n",
       "3                           383  149.65856862068176  seconds  \n",
       "4                            94    37.3680899143219  seconds  \n",
       "5                           271   282.2356131076813  seconds  \n",
       "6                           670   265.4464943408966  seconds  \n",
       "7                          3099  1716.3715987205505  seconds  \n",
       "8                          None                None     None  \n",
       "9                          None                None     None  "
      ]
     },
     "execution_count": 33,
     "metadata": {},
     "output_type": "execute_result"
    }
   ],
   "source": [
    "df"
   ]
  },
  {
   "cell_type": "code",
   "execution_count": 34,
   "id": "bb9a9634",
   "metadata": {},
   "outputs": [
    {
     "ename": "ValueError",
     "evalue": "Length of values (8) does not match length of index (10)",
     "output_type": "error",
     "traceback": [
      "\u001b[1;31m---------------------------------------------------------------------------\u001b[0m",
      "\u001b[1;31mValueError\u001b[0m                                Traceback (most recent call last)",
      "Input \u001b[1;32mIn [34]\u001b[0m, in \u001b[0;36m<cell line: 1>\u001b[1;34m()\u001b[0m\n\u001b[1;32m----> 1\u001b[0m df[\u001b[38;5;124m'\u001b[39m\u001b[38;5;124mtotal_links\u001b[39m\u001b[38;5;124m'\u001b[39m]\u001b[38;5;241m=\u001b[39m[\u001b[38;5;241m100\u001b[39m,\u001b[38;5;241m100\u001b[39m,\u001b[38;5;241m200\u001b[39m,\u001b[38;5;241m200\u001b[39m,\u001b[38;5;241m100\u001b[39m,\u001b[38;5;241m300\u001b[39m,\u001b[38;5;241m300\u001b[39m,\u001b[38;5;241m803\u001b[39m]\n",
      "File \u001b[1;32m~\\AppData\\Local\\Programs\\Python\\Python310\\lib\\site-packages\\pandas\\core\\frame.py:3655\u001b[0m, in \u001b[0;36mDataFrame.__setitem__\u001b[1;34m(self, key, value)\u001b[0m\n\u001b[0;32m   3652\u001b[0m     \u001b[38;5;28mself\u001b[39m\u001b[38;5;241m.\u001b[39m_setitem_array([key], value)\n\u001b[0;32m   3653\u001b[0m \u001b[38;5;28;01melse\u001b[39;00m:\n\u001b[0;32m   3654\u001b[0m     \u001b[38;5;66;03m# set column\u001b[39;00m\n\u001b[1;32m-> 3655\u001b[0m     \u001b[38;5;28;43mself\u001b[39;49m\u001b[38;5;241;43m.\u001b[39;49m\u001b[43m_set_item\u001b[49m\u001b[43m(\u001b[49m\u001b[43mkey\u001b[49m\u001b[43m,\u001b[49m\u001b[43m \u001b[49m\u001b[43mvalue\u001b[49m\u001b[43m)\u001b[49m\n",
      "File \u001b[1;32m~\\AppData\\Local\\Programs\\Python\\Python310\\lib\\site-packages\\pandas\\core\\frame.py:3832\u001b[0m, in \u001b[0;36mDataFrame._set_item\u001b[1;34m(self, key, value)\u001b[0m\n\u001b[0;32m   3822\u001b[0m \u001b[38;5;28;01mdef\u001b[39;00m \u001b[38;5;21m_set_item\u001b[39m(\u001b[38;5;28mself\u001b[39m, key, value) \u001b[38;5;241m-\u001b[39m\u001b[38;5;241m>\u001b[39m \u001b[38;5;28;01mNone\u001b[39;00m:\n\u001b[0;32m   3823\u001b[0m     \u001b[38;5;124;03m\"\"\"\u001b[39;00m\n\u001b[0;32m   3824\u001b[0m \u001b[38;5;124;03m    Add series to DataFrame in specified column.\u001b[39;00m\n\u001b[0;32m   3825\u001b[0m \n\u001b[1;32m   (...)\u001b[0m\n\u001b[0;32m   3830\u001b[0m \u001b[38;5;124;03m    ensure homogeneity.\u001b[39;00m\n\u001b[0;32m   3831\u001b[0m \u001b[38;5;124;03m    \"\"\"\u001b[39;00m\n\u001b[1;32m-> 3832\u001b[0m     value \u001b[38;5;241m=\u001b[39m \u001b[38;5;28;43mself\u001b[39;49m\u001b[38;5;241;43m.\u001b[39;49m\u001b[43m_sanitize_column\u001b[49m\u001b[43m(\u001b[49m\u001b[43mvalue\u001b[49m\u001b[43m)\u001b[49m\n\u001b[0;32m   3834\u001b[0m     \u001b[38;5;28;01mif\u001b[39;00m (\n\u001b[0;32m   3835\u001b[0m         key \u001b[38;5;129;01min\u001b[39;00m \u001b[38;5;28mself\u001b[39m\u001b[38;5;241m.\u001b[39mcolumns\n\u001b[0;32m   3836\u001b[0m         \u001b[38;5;129;01mand\u001b[39;00m value\u001b[38;5;241m.\u001b[39mndim \u001b[38;5;241m==\u001b[39m \u001b[38;5;241m1\u001b[39m\n\u001b[0;32m   3837\u001b[0m         \u001b[38;5;129;01mand\u001b[39;00m \u001b[38;5;129;01mnot\u001b[39;00m is_extension_array_dtype(value)\n\u001b[0;32m   3838\u001b[0m     ):\n\u001b[0;32m   3839\u001b[0m         \u001b[38;5;66;03m# broadcast across multiple columns if necessary\u001b[39;00m\n\u001b[0;32m   3840\u001b[0m         \u001b[38;5;28;01mif\u001b[39;00m \u001b[38;5;129;01mnot\u001b[39;00m \u001b[38;5;28mself\u001b[39m\u001b[38;5;241m.\u001b[39mcolumns\u001b[38;5;241m.\u001b[39mis_unique \u001b[38;5;129;01mor\u001b[39;00m \u001b[38;5;28misinstance\u001b[39m(\u001b[38;5;28mself\u001b[39m\u001b[38;5;241m.\u001b[39mcolumns, MultiIndex):\n",
      "File \u001b[1;32m~\\AppData\\Local\\Programs\\Python\\Python310\\lib\\site-packages\\pandas\\core\\frame.py:4529\u001b[0m, in \u001b[0;36mDataFrame._sanitize_column\u001b[1;34m(self, value)\u001b[0m\n\u001b[0;32m   4526\u001b[0m     \u001b[38;5;28;01mreturn\u001b[39;00m _reindex_for_setitem(value, \u001b[38;5;28mself\u001b[39m\u001b[38;5;241m.\u001b[39mindex)\n\u001b[0;32m   4528\u001b[0m \u001b[38;5;28;01mif\u001b[39;00m is_list_like(value):\n\u001b[1;32m-> 4529\u001b[0m     \u001b[43mcom\u001b[49m\u001b[38;5;241;43m.\u001b[39;49m\u001b[43mrequire_length_match\u001b[49m\u001b[43m(\u001b[49m\u001b[43mvalue\u001b[49m\u001b[43m,\u001b[49m\u001b[43m \u001b[49m\u001b[38;5;28;43mself\u001b[39;49m\u001b[38;5;241;43m.\u001b[39;49m\u001b[43mindex\u001b[49m\u001b[43m)\u001b[49m\n\u001b[0;32m   4530\u001b[0m \u001b[38;5;28;01mreturn\u001b[39;00m sanitize_array(value, \u001b[38;5;28mself\u001b[39m\u001b[38;5;241m.\u001b[39mindex, copy\u001b[38;5;241m=\u001b[39m\u001b[38;5;28;01mTrue\u001b[39;00m, allow_2d\u001b[38;5;241m=\u001b[39m\u001b[38;5;28;01mTrue\u001b[39;00m)\n",
      "File \u001b[1;32m~\\AppData\\Local\\Programs\\Python\\Python310\\lib\\site-packages\\pandas\\core\\common.py:557\u001b[0m, in \u001b[0;36mrequire_length_match\u001b[1;34m(data, index)\u001b[0m\n\u001b[0;32m    553\u001b[0m \u001b[38;5;124;03m\"\"\"\u001b[39;00m\n\u001b[0;32m    554\u001b[0m \u001b[38;5;124;03mCheck the length of data matches the length of the index.\u001b[39;00m\n\u001b[0;32m    555\u001b[0m \u001b[38;5;124;03m\"\"\"\u001b[39;00m\n\u001b[0;32m    556\u001b[0m \u001b[38;5;28;01mif\u001b[39;00m \u001b[38;5;28mlen\u001b[39m(data) \u001b[38;5;241m!=\u001b[39m \u001b[38;5;28mlen\u001b[39m(index):\n\u001b[1;32m--> 557\u001b[0m     \u001b[38;5;28;01mraise\u001b[39;00m \u001b[38;5;167;01mValueError\u001b[39;00m(\n\u001b[0;32m    558\u001b[0m         \u001b[38;5;124m\"\u001b[39m\u001b[38;5;124mLength of values \u001b[39m\u001b[38;5;124m\"\u001b[39m\n\u001b[0;32m    559\u001b[0m         \u001b[38;5;124mf\u001b[39m\u001b[38;5;124m\"\u001b[39m\u001b[38;5;124m(\u001b[39m\u001b[38;5;132;01m{\u001b[39;00m\u001b[38;5;28mlen\u001b[39m(data)\u001b[38;5;132;01m}\u001b[39;00m\u001b[38;5;124m) \u001b[39m\u001b[38;5;124m\"\u001b[39m\n\u001b[0;32m    560\u001b[0m         \u001b[38;5;124m\"\u001b[39m\u001b[38;5;124mdoes not match length of index \u001b[39m\u001b[38;5;124m\"\u001b[39m\n\u001b[0;32m    561\u001b[0m         \u001b[38;5;124mf\u001b[39m\u001b[38;5;124m\"\u001b[39m\u001b[38;5;124m(\u001b[39m\u001b[38;5;132;01m{\u001b[39;00m\u001b[38;5;28mlen\u001b[39m(index)\u001b[38;5;132;01m}\u001b[39;00m\u001b[38;5;124m)\u001b[39m\u001b[38;5;124m\"\u001b[39m\n\u001b[0;32m    562\u001b[0m     )\n",
      "\u001b[1;31mValueError\u001b[0m: Length of values (8) does not match length of index (10)"
     ]
    }
   ],
   "source": [
    "df['total_links']=[100,100,200,200,100,300,300,803]"
   ]
  },
  {
   "cell_type": "code",
   "execution_count": null,
   "id": "aa37b130",
   "metadata": {},
   "outputs": [],
   "source": [
    "df"
   ]
  },
  {
   "cell_type": "code",
   "execution_count": null,
   "id": "9228fcbc",
   "metadata": {},
   "outputs": [],
   "source": [
    "df['uniqueness_percentage']=[100,50,100,50,80,100,50,100]"
   ]
  },
  {
   "cell_type": "code",
   "execution_count": null,
   "id": "01ced59a",
   "metadata": {},
   "outputs": [],
   "source": [
    "df"
   ]
  },
  {
   "cell_type": "markdown",
   "id": "95ce6673",
   "metadata": {},
   "source": [
    "pd.to_numeric(df['number_of_unique_pairs'])\n",
    "pd.to_numeric(df['number_of_ndd_pairs'])"
   ]
  },
  {
   "cell_type": "code",
   "execution_count": null,
   "id": "80609ab4",
   "metadata": {},
   "outputs": [],
   "source": [
    "df['total_pairs_considered']=pd.to_numeric(df['predicted_number_of_unique_pairs'])+pd.to_numeric(df['predicted_number_of_ndd_pairs'])"
   ]
  },
  {
   "cell_type": "code",
   "execution_count": null,
   "id": "f92491e5",
   "metadata": {},
   "outputs": [],
   "source": [
    "df"
   ]
  },
  {
   "cell_type": "code",
   "execution_count": null,
   "id": "cfc811da",
   "metadata": {},
   "outputs": [],
   "source": [
    "print(type(df.iat[1,3]))"
   ]
  },
  {
   "cell_type": "code",
   "execution_count": null,
   "id": "a4e977bc",
   "metadata": {},
   "outputs": [],
   "source": [
    "from sklearn.metrics import confusion_matrix"
   ]
  },
  {
   "cell_type": "code",
   "execution_count": null,
   "id": "9b7ffdd9",
   "metadata": {},
   "outputs": [],
   "source": [
    "list_of_conf_matrix=[]\n",
    "import decimal as dc\n",
    "for i in range(8):\n",
    "    l_pred=[]\n",
    "    l_pred.append(int(df['predicted_number_of_unique_pairs'][i]))\n",
    "    l_pred.append(int(df['predicted_number_of_ndd_pairs'][i]))\n",
    "    l_true=[]\n",
    "    l_true.append(int(df['total_pairs_considered'][i])-int(df['uniqueness_percentage'][i])/100*int(df['total_links'][i]))\n",
    "    l_true.append(int(df['uniqueness_percentage'][i])/100*int(df['total_links'][i]))\n",
    "    conf_1=[str(min(l_pred[0],l_true[0])),str(max(0,l_true[0]-l_pred[0]))]\n",
    "    conf_2=[str(max(0,l_true[1]-l_pred[1])),str(min(l_pred[1],l_true[1]))]\n",
    "    a=np.array([conf_1,conf_2])\n",
    "    list_of_conf_matrix.append(a)\n",
    "    print(f\"the confusion matrix for the {df['file_taken'][i]} is:\")\n",
    "    print(a)"
   ]
  },
  {
   "cell_type": "code",
   "execution_count": null,
   "id": "5022ee44",
   "metadata": {},
   "outputs": [],
   "source": [
    "def final_table(cm):\n",
    "    tp=float(cm[0][0])\n",
    "    tn=float(cm[1][1])\n",
    "    fp=float(cm[0][1])\n",
    "    fn=float(cm[1][0])\n",
    "#     print(tn)\n",
    "    tot=tp+tn+fp+fn\n",
    "    acc=(tp+tn)/(tot)\n",
    "    err=(fp+fn)/(tot)\n",
    "    sen=(tp)/(tp+fn)\n",
    "    spe=(tn)/(tn+fp)\n",
    "    ppv=(tp)/(tp+fp)\n",
    "    npv=(tn)/(tn+fn)\n",
    "    fpr=(fp)/(fp+tn)\n",
    "    fnr=(fn)/(fn+tp)\n",
    "    fdr=(fp)/(fp+tp)\n",
    "    fomr=(fn)/(fn+tn)\n",
    "    col1=['acc','err','sen','spe','ppv','npv','fpr','fnr','fdr','fomr']\n",
    "    col2=[acc,err,sen,spe,ppv,npv,fpr,fnr,fdr,fomr]\n",
    "    data=[]\n",
    "    di={'acc':acc,'err':err,'sen':sen,'spe':spe,'ppv':ppv,'npv':npv,'fpr':fpr,'fnr':fnr,'fdr':fdr,'fomr':fomr}\n",
    "    for i in range(len(col1)):\n",
    "        l=[]\n",
    "        l.append(col1[i])\n",
    "        l.append(col2[i])\n",
    "        data.append(l)\n",
    "    df_local=pd.DataFrame(data,columns=['factor','ndd01_stemmed'])\n",
    "#     df_local.rename(columns={0:'factor',1:'ndd01_stemmed'},inplace=True)\n",
    "    return df_local"
   ]
  },
  {
   "cell_type": "code",
   "execution_count": null,
   "id": "6de8733e",
   "metadata": {},
   "outputs": [],
   "source": [
    "list_of_final_dataframes=[]\n",
    "for i in range(len(list_of_conf_matrix)):\n",
    "    list_of_final_dataframes.append(final_table(list_of_conf_matrix[i]))\n",
    "    print(list_of_final_dataframes[i])"
   ]
  },
  {
   "cell_type": "code",
   "execution_count": null,
   "id": "4958f608",
   "metadata": {},
   "outputs": [],
   "source": []
  }
 ],
 "metadata": {
  "kernelspec": {
   "display_name": "Python 3 (ipykernel)",
   "language": "python",
   "name": "python3"
  },
  "language_info": {
   "codemirror_mode": {
    "name": "ipython",
    "version": 3
   },
   "file_extension": ".py",
   "mimetype": "text/x-python",
   "name": "python",
   "nbconvert_exporter": "python",
   "pygments_lexer": "ipython3",
   "version": "3.10.2"
  }
 },
 "nbformat": 4,
 "nbformat_minor": 5
}
